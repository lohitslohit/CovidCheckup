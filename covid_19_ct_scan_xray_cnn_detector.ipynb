{
  "nbformat": 4,
  "nbformat_minor": 0,
  "metadata": {
    "kernelspec": {
      "display_name": "Python 3",
      "language": "python",
      "name": "python3"
    },
    "language_info": {
      "codemirror_mode": {
        "name": "ipython",
        "version": 3
      },
      "file_extension": ".py",
      "mimetype": "text/x-python",
      "name": "python",
      "nbconvert_exporter": "python",
      "pygments_lexer": "ipython3",
      "version": "3.6.6"
    },
    "colab": {
      "name": "covid-19-ct-scan-xray-cnn-detector.ipynb",
      "provenance": [],
      "toc_visible": true
    }
  },
  "cells": [
    {
      "cell_type": "markdown",
      "metadata": {
        "id": "WvTKoOCFU_P4"
      },
      "source": [
        "# Acknowledgements\n",
        "\n",
        "- Dataset from https://github.com/ieee8023/covid-chestxray-dataset\n",
        "- COVID-19 Detector code from https://github.com/JordanMicahBennett/SMART-CT-SCAN_BASED-COVID19_VIRUS_DETECTOR/"
      ]
    },
    {
      "cell_type": "code",
      "metadata": {
        "id": "_WLoQ2pBnon_"
      },
      "source": [
        ""
      ],
      "execution_count": null,
      "outputs": []
    },
    {
      "cell_type": "code",
      "metadata": {
        "colab": {
          "base_uri": "https://localhost:8080/"
        },
        "id": "S1rYFOOuMeDg",
        "outputId": "ea43ace6-75a4-4315-f88b-7e52c3165a5f"
      },
      "source": [
        "from google.colab import drive\n",
        "drive.mount('/content/drive')"
      ],
      "execution_count": null,
      "outputs": [
        {
          "output_type": "stream",
          "text": [
            "Mounted at /content/drive\n"
          ],
          "name": "stdout"
        }
      ]
    },
    {
      "cell_type": "code",
      "metadata": {
        "colab": {
          "base_uri": "https://localhost:8080/"
        },
        "id": "V8cQKtOPnuTL",
        "outputId": "35f32d91-ac40-49f0-845c-e1320e3625d6"
      },
      "source": [
        "import os\n",
        "os.environ['KAGGLE_CONFIG_DIR'] = \"/content/drive/MyDrive/kaggle\"\n",
        "%cd /content/drive/MyDrive/kaggle"
      ],
      "execution_count": null,
      "outputs": [
        {
          "output_type": "stream",
          "text": [
            "/content/drive/MyDrive/kaggle\n"
          ],
          "name": "stdout"
        }
      ]
    },
    {
      "cell_type": "code",
      "metadata": {
        "colab": {
          "base_uri": "https://localhost:8080/"
        },
        "id": "PDrL7MUUpm19",
        "outputId": "31ca9366-0dfd-46bf-ca6f-0bc587e84d1a"
      },
      "source": [
        "!kaggle datasets download -d paultimothymooney/chest-xray-pneumonia"
      ],
      "execution_count": null,
      "outputs": [
        {
          "output_type": "stream",
          "text": [
            "chest-xray-pneumonia.zip: Skipping, found more recently modified local copy (use --force to force download)\n"
          ],
          "name": "stdout"
        }
      ]
    },
    {
      "cell_type": "code",
      "metadata": {
        "id": "kT5HdRRyrm39"
      },
      "source": [
        "# !unzip -u \"/content/drive/MyDrive/kaggle/chest-xray-pneumonia.zip\" -d \"/content/drive/MyDrive/kaggle/chest\""
      ],
      "execution_count": null,
      "outputs": []
    },
    {
      "cell_type": "markdown",
      "metadata": {
        "id": "KiiAwOzEU_P5"
      },
      "source": [
        "# Imports"
      ]
    },
    {
      "cell_type": "code",
      "metadata": {
        "_cell_guid": "b1076dfc-b9ad-4769-8c92-a6c4dae69d19",
        "_uuid": "8f2839f25d086af736a60e9eeb907d3b93b6e0e5",
        "id": "wvPNp0qAU_P6"
      },
      "source": [
        "import pandas as pd\n",
        "import os"
      ],
      "execution_count": null,
      "outputs": []
    },
    {
      "cell_type": "code",
      "metadata": {
        "_cell_guid": "79c7e3d0-c299-4dcb-8224-4455121ee9b0",
        "_uuid": "d629ff2d2480ee46fbb7e2d37f6b5fab8052498a",
        "id": "XMRCItDdU_P7"
      },
      "source": [
        "# General libraries\n",
        "import numpy as np\n",
        "import random\n",
        "import cv2\n",
        "import matplotlib.pyplot as plt\n",
        "\n",
        "# Deep learning libraries\n",
        "#import keras.backend as K\n",
        "from tensorflow.keras.models import Model, Sequential\n",
        "from tensorflow.keras.layers import Input, Dense, Flatten, Dropout, BatchNormalization\n",
        "from tensorflow.keras.layers import Conv2D, SeparableConv2D, MaxPool2D, LeakyReLU, Activation\n",
        "from tensorflow.keras.optimizers import Adam\n",
        "from tensorflow.keras.preprocessing.image import ImageDataGenerator\n",
        "from tensorflow.keras.callbacks import ModelCheckpoint, ReduceLROnPlateau, EarlyStopping\n",
        "import tensorflow as tf\n",
        "\n",
        "#Util Component 1: Confusion matrix report/Accuracy measures\n",
        "from sklearn.metrics import accuracy_score, confusion_matrix\n",
        "\n",
        "# disabling warnings\n",
        "import logging\n",
        "logging.getLogger('tensorflow').disabled = True #Jordan_note: Disable red warning lines seen at model architecture creation."
      ],
      "execution_count": null,
      "outputs": []
    },
    {
      "cell_type": "markdown",
      "metadata": {
        "id": "3EalLlKPU_P7"
      },
      "source": [
        "# Utility Functions"
      ]
    },
    {
      "cell_type": "code",
      "metadata": {
        "id": "a7DGFFvuU_P8"
      },
      "source": [
        "def renderConfusionMetrics ( ___model, _testData, _testLabels, enableTraining, ___train_gen, ___test_gen, __batch_size, __epochs, hdf5_testSaveFileName ):\n",
        "    preds = ___model.predict(_testData)\n",
        "\n",
        "    acc = accuracy_score(_testLabels, np.round(preds))*100\n",
        "    cm = confusion_matrix(_testLabels, np.round(preds))\n",
        "    tn, fp, fn, tp = cm.ravel()\n",
        "\n",
        "\n",
        "    print('\\nCONFUSION MATRIX FORMAT ------------------\\n')\n",
        "    print(\"[true positives    false positives]\")\n",
        "    print(\"[false negatives    true negatives]\\n\\n\")\n",
        "\n",
        "    print('CONFUSION MATRIX ------------------')\n",
        "    print(cm)\n",
        "\n",
        "    print('\\nTEST METRICS ----------------------')\n",
        "    precision = tp/(tp+fp)*100\n",
        "    recall = tp/(tp+fn)*100\n",
        "    specificity = tn/(tn+fp)*100 #Jordan_note: added specificity calculation \n",
        "    print('Accuracy: {}%'.format(acc))\n",
        "    print('Precision: {}%'.format(precision))\n",
        "    print('Recall/Sensitivity: {}%'.format(recall)) #Jordan_note: added sensitivity label\n",
        "    print('Specificity {}%'.format(specificity)) #Jordan_note: added specificity calculation \n",
        "    print('F1-score: {}'.format(2*precision*recall/(precision+recall)))\n",
        "\n",
        "\n",
        "    if enableTraining:\n",
        "        checkpoint = ModelCheckpoint(filepath=hdf5_testSaveFileName, save_best_only=True, save_weights_only=True)\n",
        "        lr_reduce = ReduceLROnPlateau(monitor='val_loss', factor=0.3, patience=2, verbose=2, mode='max')\n",
        "        early_stop = EarlyStopping(monitor='val_loss', min_delta=0.1, patience=1, mode='min')\n",
        "\n",
        "\n",
        "        hist = ___model.fit_generator(\n",
        "                   ___train_gen, steps_per_epoch=___test_gen.samples // __batch_size, \n",
        "                   epochs=__epochs, validation_data=___test_gen, \n",
        "                   validation_steps=___test_gen.samples // __batch_size, callbacks=[checkpoint, lr_reduce])\n",
        "\n",
        "        print('\\nTRAIN METRIC ----------------------')\n",
        "        print('Covid19 Train acc: {}'.format(np.round((hist.history['accuracy'][-1])*100, 2)))\n",
        "\n",
        "    fig, ax = plt.subplots(1, 2, figsize=(10, 3))\n",
        "    ax = ax.ravel()\n",
        "    for i, met in enumerate(['accuracy', 'loss']):\n",
        "        ax[i].plot(hist.history[met])\n",
        "        ax[i].plot(hist.history['val_' + met])\n",
        "        ax[i].set_title('Model {}'.format(met))\n",
        "        ax[i].set_xlabel('epochs')\n",
        "        ax[i].set_ylabel(met)\n",
        "        ax[i].legend(['train', 'val'])\n",
        "    plt.savefig('train_val_acc_loss.png')"
      ],
      "execution_count": null,
      "outputs": []
    },
    {
      "cell_type": "code",
      "metadata": {
        "id": "9zCNxt0ZU_P8"
      },
      "source": [
        "#Util Component 2:model architecture description\n",
        "def defineModelArchitecture (_img_dims ):\n",
        "    # Input layer\n",
        "    inputs = Input(shape=(_img_dims, _img_dims, 3))\n",
        "\n",
        "    # First conv block\n",
        "    x = Conv2D(filters=16, kernel_size=(3, 3), activation='relu', padding='same')(inputs)\n",
        "    x = Conv2D(filters=16, kernel_size=(3, 3), activation='relu', padding='same')(x)\n",
        "    x = MaxPool2D(pool_size=(2, 2))(x)\n",
        "\n",
        "    # Second conv block\n",
        "    x = SeparableConv2D(filters=32, kernel_size=(3, 3), activation='relu', padding='same')(x)\n",
        "    x = SeparableConv2D(filters=32, kernel_size=(3, 3), activation='relu', padding='same')(x)\n",
        "    x = BatchNormalization()(x)\n",
        "    x = MaxPool2D(pool_size=(2, 2))(x)\n",
        "\n",
        "    # Third conv block\n",
        "    x = SeparableConv2D(filters=64, kernel_size=(3, 3), activation='relu', padding='same')(x)\n",
        "    x = SeparableConv2D(filters=64, kernel_size=(3, 3), activation='relu', padding='same')(x)\n",
        "    x = BatchNormalization()(x)\n",
        "    x = MaxPool2D(pool_size=(2, 2))(x)\n",
        "\n",
        "    # Fourth conv block\n",
        "    x = SeparableConv2D(filters=128, kernel_size=(3, 3), activation='relu', padding='same')(x)\n",
        "    x = SeparableConv2D(filters=128, kernel_size=(3, 3), activation='relu', padding='same')(x)\n",
        "    x = BatchNormalization()(x)\n",
        "    x = MaxPool2D(pool_size=(2, 2))(x)\n",
        "    x = Dropout(rate=0.2)(x)\n",
        "\n",
        "    # Fifth conv block\n",
        "    x = SeparableConv2D(filters=256, kernel_size=(3, 3), activation='relu', padding='same')(x)\n",
        "    x = SeparableConv2D(filters=256, kernel_size=(3, 3), activation='relu', padding='same')(x)\n",
        "    x = BatchNormalization()(x)\n",
        "    x = MaxPool2D(pool_size=(2, 2))(x)\n",
        "    x = Dropout(rate=0.2)(x)\n",
        "\n",
        "    # FC layer\n",
        "    x = Flatten()(x)\n",
        "    x = Dense(units=512, activation='relu')(x)\n",
        "    x = Dropout(rate=0.7)(x)\n",
        "    x = Dense(units=128, activation='relu')(x)\n",
        "    x = Dropout(rate=0.5)(x)\n",
        "    x = Dense(units=64, activation='relu')(x)\n",
        "    x = Dropout(rate=0.3)(x)\n",
        "\n",
        "    # Output layer\n",
        "    output = Dense(units=1, activation='sigmoid')(x)\n",
        "    \n",
        "    return inputs, output\n",
        "\n",
        "\n",
        "###########\n",
        "#Util Component 3: Data processor\n",
        "#Note: This process does not use validation path, because validation path in the original competion reasonably had too little data (8 samples) to create any insight.\n",
        "# the \"directoryProcessArray\" param from \"reportFileDistributions\" function corresponds to the hard-coded sub-directories of train and test, excluding val.\n",
        "def process_data(___inputPath, img_dims, batch_size):\n",
        "    # Data generation objects\n",
        "    train_datagen = ImageDataGenerator(rescale=1./255, zoom_range=0.3, vertical_flip=True)\n",
        "    test_val_datagen = ImageDataGenerator(rescale=1./255)\n",
        "    \n",
        "    # This is fed to the network in the specified batch sizes and image dimensions\n",
        "    train_gen = train_datagen.flow_from_directory(\n",
        "    directory=___inputPath+'train', \n",
        "    target_size=(img_dims, img_dims), \n",
        "    batch_size=batch_size, \n",
        "    class_mode='binary', \n",
        "    shuffle=True)\n",
        "\n",
        "    test_gen = test_val_datagen.flow_from_directory(\n",
        "    directory=___inputPath+'test', \n",
        "    target_size=(img_dims, img_dims), \n",
        "    batch_size=batch_size, \n",
        "    class_mode='binary', \n",
        "    shuffle=True)\n",
        "    \n",
        "    # I will be making predictions off of the test set in one batch size\n",
        "    # This is useful to be able to get the confusion matrix\n",
        "    test_data = []\n",
        "    test_labels = []\n",
        "\n",
        "    for cond in ['/NORMAL/', '/PNEUMONIA/']:\n",
        "        for img in (os.listdir(___inputPath + 'test' + cond)):\n",
        "            img = cv2.imread(___inputPath+'test'+cond+img,0) #Replace plt.imread, with  gray scale cv2.imread(path,0), so that ui's image load process doesn't throw a pyimage10 error\n",
        "            img = cv2.resize(img, (img_dims, img_dims))\n",
        "            img = np.dstack([img, img, img])\n",
        "            img = img.astype('float32') / 255\n",
        "            if cond=='/NORMAL/':\n",
        "                label = 0\n",
        "            elif cond=='/PNEUMONIA/':\n",
        "                label = 1\n",
        "            test_data.append(img)\n",
        "            test_labels.append(label)\n",
        "        \n",
        "    test_data = np.array(test_data)\n",
        "    test_labels = np.array(test_labels)\n",
        "    \n",
        "    return train_gen, test_gen, test_data, test_labels\n",
        "    \n",
        "\n",
        "###########\n",
        "#Util Component 4: Report file distributions\n",
        "#directoryProcessArray eg, = ['train', 'val', 'test'], in the case that training val and test folders exist in sub-dir for processing.\n",
        "def reportFileDistributions (___inputPath, directoryProcessArray):\n",
        "    for _set in directoryProcessArray:\n",
        "        n_normal = len(os.listdir(___inputPath + _set + '/NORMAL'))\n",
        "        n_infect = len(os.listdir(___inputPath + _set + '/PNEUMONIA'))\n",
        "        print('Set: {}, normal images: {}, regular pneumonia images: {}'.format(_set, n_normal, n_infect))"
      ],
      "execution_count": null,
      "outputs": []
    },
    {
      "cell_type": "code",
      "metadata": {
        "id": "ZFWeofpnU_P9"
      },
      "source": [
        "# Setting seeds for reproducibility\n",
        "seed = 232\n",
        "np.random.seed(seed)\n",
        "tf.random.set_seed(seed)"
      ],
      "execution_count": null,
      "outputs": []
    },
    {
      "cell_type": "code",
      "metadata": {
        "id": "yGQyngT1U_P-"
      },
      "source": [
        "# Hyperparameters\n",
        "img_dims = 150\n",
        "batch_size = 32"
      ],
      "execution_count": null,
      "outputs": []
    },
    {
      "cell_type": "code",
      "metadata": {
        "id": "txZ2RpRDU_P-"
      },
      "source": [
        "inputs, output = defineModelArchitecture ( img_dims )"
      ],
      "execution_count": null,
      "outputs": []
    },
    {
      "cell_type": "markdown",
      "metadata": {
        "id": "k_U7VLqFU_P-"
      },
      "source": [
        "# Non-COVID-19 Lung Pneumonia Detection"
      ]
    },
    {
      "cell_type": "code",
      "metadata": {
        "colab": {
          "base_uri": "https://localhost:8080/"
        },
        "id": "KImCv78jU_P-",
        "outputId": "3bd768e5-09b5-4554-bc31-60dbca9f8942"
      },
      "source": [
        "# Creating model and compiling\n",
        "model_pneumoniaDetector = Model(inputs=inputs, outputs=output)\n",
        "model_pneumoniaDetector.compile(optimizer='adam', loss='binary_crossentropy', metrics=['accuracy'])\n",
        "model_pneumoniaDetector.summary()"
      ],
      "execution_count": null,
      "outputs": [
        {
          "output_type": "stream",
          "text": [
            "Model: \"model\"\n",
            "_________________________________________________________________\n",
            "Layer (type)                 Output Shape              Param #   \n",
            "=================================================================\n",
            "input_1 (InputLayer)         [(None, 150, 150, 3)]     0         \n",
            "_________________________________________________________________\n",
            "conv2d (Conv2D)              (None, 150, 150, 16)      448       \n",
            "_________________________________________________________________\n",
            "conv2d_1 (Conv2D)            (None, 150, 150, 16)      2320      \n",
            "_________________________________________________________________\n",
            "max_pooling2d (MaxPooling2D) (None, 75, 75, 16)        0         \n",
            "_________________________________________________________________\n",
            "separable_conv2d (SeparableC (None, 75, 75, 32)        688       \n",
            "_________________________________________________________________\n",
            "separable_conv2d_1 (Separabl (None, 75, 75, 32)        1344      \n",
            "_________________________________________________________________\n",
            "batch_normalization (BatchNo (None, 75, 75, 32)        128       \n",
            "_________________________________________________________________\n",
            "max_pooling2d_1 (MaxPooling2 (None, 37, 37, 32)        0         \n",
            "_________________________________________________________________\n",
            "separable_conv2d_2 (Separabl (None, 37, 37, 64)        2400      \n",
            "_________________________________________________________________\n",
            "separable_conv2d_3 (Separabl (None, 37, 37, 64)        4736      \n",
            "_________________________________________________________________\n",
            "batch_normalization_1 (Batch (None, 37, 37, 64)        256       \n",
            "_________________________________________________________________\n",
            "max_pooling2d_2 (MaxPooling2 (None, 18, 18, 64)        0         \n",
            "_________________________________________________________________\n",
            "separable_conv2d_4 (Separabl (None, 18, 18, 128)       8896      \n",
            "_________________________________________________________________\n",
            "separable_conv2d_5 (Separabl (None, 18, 18, 128)       17664     \n",
            "_________________________________________________________________\n",
            "batch_normalization_2 (Batch (None, 18, 18, 128)       512       \n",
            "_________________________________________________________________\n",
            "max_pooling2d_3 (MaxPooling2 (None, 9, 9, 128)         0         \n",
            "_________________________________________________________________\n",
            "dropout (Dropout)            (None, 9, 9, 128)         0         \n",
            "_________________________________________________________________\n",
            "separable_conv2d_6 (Separabl (None, 9, 9, 256)         34176     \n",
            "_________________________________________________________________\n",
            "separable_conv2d_7 (Separabl (None, 9, 9, 256)         68096     \n",
            "_________________________________________________________________\n",
            "batch_normalization_3 (Batch (None, 9, 9, 256)         1024      \n",
            "_________________________________________________________________\n",
            "max_pooling2d_4 (MaxPooling2 (None, 4, 4, 256)         0         \n",
            "_________________________________________________________________\n",
            "dropout_1 (Dropout)          (None, 4, 4, 256)         0         \n",
            "_________________________________________________________________\n",
            "flatten (Flatten)            (None, 4096)              0         \n",
            "_________________________________________________________________\n",
            "dense (Dense)                (None, 512)               2097664   \n",
            "_________________________________________________________________\n",
            "dropout_2 (Dropout)          (None, 512)               0         \n",
            "_________________________________________________________________\n",
            "dense_1 (Dense)              (None, 128)               65664     \n",
            "_________________________________________________________________\n",
            "dropout_3 (Dropout)          (None, 128)               0         \n",
            "_________________________________________________________________\n",
            "dense_2 (Dense)              (None, 64)                8256      \n",
            "_________________________________________________________________\n",
            "dropout_4 (Dropout)          (None, 64)                0         \n",
            "_________________________________________________________________\n",
            "dense_3 (Dense)              (None, 1)                 65        \n",
            "=================================================================\n",
            "Total params: 2,314,337\n",
            "Trainable params: 2,313,377\n",
            "Non-trainable params: 960\n",
            "_________________________________________________________________\n"
          ],
          "name": "stdout"
        }
      ]
    },
    {
      "cell_type": "code",
      "metadata": {
        "id": "pGWAcem7U_P_"
      },
      "source": [
        "input_path_b = '/content/drive/MyDrive/kaggle/chest/chest_xray/chest_xray/'"
      ],
      "execution_count": null,
      "outputs": []
    },
    {
      "cell_type": "code",
      "metadata": {
        "colab": {
          "base_uri": "https://localhost:8080/"
        },
        "id": "UGsUWZW8U_P_",
        "outputId": "31b68e36-b68d-4a86-cb26-2550a50945d2"
      },
      "source": [
        "# Report file distributions\n",
        "reportFileDistributions (input_path_b, ['train', 'val', 'test'] )"
      ],
      "execution_count": null,
      "outputs": [
        {
          "output_type": "stream",
          "text": [
            "Set: train, normal images: 1342, regular pneumonia images: 3876\n",
            "Set: val, normal images: 9, regular pneumonia images: 9\n",
            "Set: test, normal images: 234, regular pneumonia images: 390\n"
          ],
          "name": "stdout"
        }
      ]
    },
    {
      "cell_type": "code",
      "metadata": {
        "id": "aNO7aGZPU_P_",
        "colab": {
          "base_uri": "https://localhost:8080/"
        },
        "outputId": "a8b8e416-2c4d-4d90-f828-fc07ce4cd661"
      },
      "source": [
        "# Getting the data\n",
        "train_gen, test_gen, test_data_b, test_labels_b = process_data(input_path_b, img_dims, batch_size)"
      ],
      "execution_count": null,
      "outputs": [
        {
          "output_type": "stream",
          "text": [
            "Found 5216 images belonging to 2 classes.\n",
            "Found 624 images belonging to 2 classes.\n"
          ],
          "name": "stdout"
        }
      ]
    },
    {
      "cell_type": "code",
      "metadata": {
        "id": "5YSUBQ_wU_QA",
        "colab": {
          "base_uri": "https://localhost:8080/",
          "height": 1000
        },
        "outputId": "de513086-893c-46a2-cbf1-4049cd24da35"
      },
      "source": [
        "renderConfusionMetrics(model_pneumoniaDetector, test_data_b, test_labels_b, True, train_gen, test_gen, batch_size, 10, 'model_weights.hdf5')\n"
      ],
      "execution_count": null,
      "outputs": [
        {
          "output_type": "stream",
          "text": [
            "\n",
            "CONFUSION MATRIX FORMAT ------------------\n",
            "\n",
            "[true positives    false positives]\n",
            "[false negatives    true negatives]\n",
            "\n",
            "\n",
            "CONFUSION MATRIX ------------------\n",
            "[[234   0]\n",
            " [390   0]]\n",
            "\n",
            "TEST METRICS ----------------------\n",
            "Accuracy: 37.5%\n",
            "Precision: nan%\n",
            "Recall/Sensitivity: 0.0%\n",
            "Specificity 100.0%\n",
            "F1-score: nan\n"
          ],
          "name": "stdout"
        },
        {
          "output_type": "stream",
          "text": [
            "/usr/local/lib/python3.7/dist-packages/ipykernel_launcher.py:17: RuntimeWarning: invalid value encountered in long_scalars\n",
            "/usr/local/lib/python3.7/dist-packages/tensorflow/python/keras/engine/training.py:1844: UserWarning: `Model.fit_generator` is deprecated and will be removed in a future version. Please use `Model.fit`, which supports generators.\n",
            "  warnings.warn('`Model.fit_generator` is deprecated and '\n"
          ],
          "name": "stderr"
        },
        {
          "output_type": "stream",
          "text": [
            "Epoch 1/10\n",
            "19/19 [==============================] - 164s 9s/step - loss: 0.6383 - accuracy: 0.7386 - val_loss: 0.6647 - val_accuracy: 0.6250\n",
            "Epoch 2/10\n",
            "19/19 [==============================] - 147s 8s/step - loss: 0.5234 - accuracy: 0.7362 - val_loss: 0.6728 - val_accuracy: 0.6217\n",
            "Epoch 3/10\n",
            "19/19 [==============================] - 124s 7s/step - loss: 0.3759 - accuracy: 0.7840 - val_loss: 0.7164 - val_accuracy: 0.6250\n",
            "Epoch 4/10\n",
            "19/19 [==============================] - 119s 6s/step - loss: 0.3225 - accuracy: 0.8393 - val_loss: 0.7529 - val_accuracy: 0.6283\n",
            "Epoch 5/10\n",
            "19/19 [==============================] - 116s 6s/step - loss: 0.3871 - accuracy: 0.8389 - val_loss: 1.0082 - val_accuracy: 0.6250\n",
            "Epoch 6/10\n",
            "19/19 [==============================] - 111s 6s/step - loss: 0.3186 - accuracy: 0.8504 - val_loss: 0.7299 - val_accuracy: 0.6283\n",
            "Epoch 7/10\n",
            "19/19 [==============================] - 96s 5s/step - loss: 0.3398 - accuracy: 0.8660 - val_loss: 0.6839 - val_accuracy: 0.6234\n",
            "\n",
            "Epoch 00007: ReduceLROnPlateau reducing learning rate to 0.0003000000142492354.\n",
            "Epoch 8/10\n",
            "19/19 [==============================] - 83s 4s/step - loss: 0.3095 - accuracy: 0.8684 - val_loss: 0.6792 - val_accuracy: 0.6234\n",
            "Epoch 9/10\n",
            "19/19 [==============================] - 77s 4s/step - loss: 0.2937 - accuracy: 0.8703 - val_loss: 0.7168 - val_accuracy: 0.6217\n",
            "\n",
            "Epoch 00009: ReduceLROnPlateau reducing learning rate to 9.000000427477062e-05.\n",
            "Epoch 10/10\n",
            "19/19 [==============================] - 73s 4s/step - loss: 0.2875 - accuracy: 0.8775 - val_loss: 0.7063 - val_accuracy: 0.6250\n",
            "\n",
            "TRAIN METRIC ----------------------\n",
            "Covid19 Train acc: 87.83\n"
          ],
          "name": "stdout"
        },
        {
          "output_type": "display_data",
          "data": {
            "image/png": "[encoded data removed]",
            "text/plain": [
              "<Figure size 720x216 with 2 Axes>"
            ]
          },
          "metadata": {
            "tags": [],
            "needs_background": "light"
          }
        }
      ]
    },
    {
      "cell_type": "markdown",
      "metadata": {
        "id": "sWJfaQgxU_QA"
      },
      "source": [
        "# COVID-19 Lung Pneumonia Detection"
      ]
    },
    {
      "cell_type": "code",
      "metadata": {
        "id": "HU_ByRnyU_QA"
      },
      "source": [
        "inputs, output = defineModelArchitecture(img_dims)\n",
        "\n",
        "# Creating model and compiling\n",
        "model_covid19PneumoniaDetector = Model(inputs=inputs, outputs=output)\n",
        "model_covid19PneumoniaDetector.compile(optimizer='adam', loss='binary_crossentropy', metrics=['accuracy'])\n",
        "model_covid19PneumoniaDetector.load_weights('model_weights.hdf5')"
      ],
      "execution_count": null,
      "outputs": []
    },
    {
      "cell_type": "code",
      "metadata": {
        "id": "SKNwmleHU_QA"
      },
      "source": [
        "input_path_d = '/content/drive/MyDrive/kaggle/chest/chest_xray/'"
      ],
      "execution_count": null,
      "outputs": []
    },
    {
      "cell_type": "code",
      "metadata": {
        "id": "3VgkfMxmU_QB",
        "colab": {
          "base_uri": "https://localhost:8080/"
        },
        "outputId": "b61c60d9-5507-4da0-b5a9-103adeb7e9b5"
      },
      "source": [
        "reportFileDistributions (input_path_d, ['train', 'test'])"
      ],
      "execution_count": null,
      "outputs": [
        {
          "output_type": "stream",
          "text": [
            "Set: train, normal images: 1341, regular pneumonia images: 3875\n",
            "Set: test, normal images: 234, regular pneumonia images: 390\n"
          ],
          "name": "stdout"
        }
      ]
    },
    {
      "cell_type": "code",
      "metadata": {
        "id": "bu1KlKwUU_QB",
        "colab": {
          "base_uri": "https://localhost:8080/"
        },
        "outputId": "f12e8842-318a-45c4-9c15-59653820e07d"
      },
      "source": [
        "train_gen_d, test_gen_d, test_data_d, test_labels_d = process_data(input_path_d, img_dims, batch_size)"
      ],
      "execution_count": null,
      "outputs": [
        {
          "output_type": "stream",
          "text": [
            "Found 5216 images belonging to 2 classes.\n",
            "Found 624 images belonging to 2 classes.\n"
          ],
          "name": "stdout"
        }
      ]
    },
    {
      "cell_type": "code",
      "metadata": {
        "id": "a4TJ2wIgU_QB",
        "colab": {
          "base_uri": "https://localhost:8080/",
          "height": 1000
        },
        "outputId": "789919b2-058b-4ab0-9436-bac67d8ad220"
      },
      "source": [
        "renderConfusionMetrics(model_covid19PneumoniaDetector, test_data_d, test_labels_d, True, train_gen_d, test_gen_d, batch_size, 10, 'covid19_model_weights.hdf5')"
      ],
      "execution_count": null,
      "outputs": [
        {
          "output_type": "stream",
          "text": [
            "\n",
            "CONFUSION MATRIX FORMAT ------------------\n",
            "\n",
            "[true positives    false positives]\n",
            "[false negatives    true negatives]\n",
            "\n",
            "\n",
            "CONFUSION MATRIX ------------------\n",
            "[[  0 234]\n",
            " [  0 390]]\n",
            "\n",
            "TEST METRICS ----------------------\n",
            "Accuracy: 62.5%\n",
            "Precision: 62.5%\n",
            "Recall/Sensitivity: 100.0%\n",
            "Specificity 0.0%\n",
            "F1-score: 76.92307692307692\n"
          ],
          "name": "stdout"
        },
        {
          "output_type": "stream",
          "text": [
            "/usr/local/lib/python3.7/dist-packages/tensorflow/python/keras/engine/training.py:1844: UserWarning: `Model.fit_generator` is deprecated and will be removed in a future version. Please use `Model.fit`, which supports generators.\n",
            "  warnings.warn('`Model.fit_generator` is deprecated and '\n"
          ],
          "name": "stderr"
        },
        {
          "output_type": "stream",
          "text": [
            "Epoch 1/10\n",
            "19/19 [==============================] - 162s 8s/step - loss: 0.5334 - accuracy: 0.7165 - val_loss: 0.7270 - val_accuracy: 0.6184\n",
            "Epoch 2/10\n",
            "19/19 [==============================] - 159s 8s/step - loss: 0.3550 - accuracy: 0.7501 - val_loss: 0.8868 - val_accuracy: 0.6266\n",
            "Epoch 3/10\n",
            "19/19 [==============================] - 128s 7s/step - loss: 0.3640 - accuracy: 0.7793 - val_loss: 0.7809 - val_accuracy: 0.6250\n",
            "Epoch 4/10\n",
            "19/19 [==============================] - 113s 6s/step - loss: 0.2410 - accuracy: 0.9081 - val_loss: 0.8465 - val_accuracy: 0.6250\n",
            "\n",
            "Epoch 00004: ReduceLROnPlateau reducing learning rate to 0.0003000000142492354.\n",
            "Epoch 5/10\n",
            "19/19 [==============================] - 111s 6s/step - loss: 0.3559 - accuracy: 0.8473 - val_loss: 0.7129 - val_accuracy: 0.6266\n",
            "Epoch 6/10\n",
            "19/19 [==============================] - 99s 5s/step - loss: 0.2522 - accuracy: 0.9054 - val_loss: 0.7781 - val_accuracy: 0.6184\n",
            "\n",
            "Epoch 00006: ReduceLROnPlateau reducing learning rate to 9.000000427477062e-05.\n",
            "Epoch 7/10\n",
            "19/19 [==============================] - 89s 5s/step - loss: 0.2452 - accuracy: 0.9031 - val_loss: 0.7492 - val_accuracy: 0.6299\n",
            "Epoch 8/10\n",
            "19/19 [==============================] - 82s 4s/step - loss: 0.2543 - accuracy: 0.8961 - val_loss: 0.7380 - val_accuracy: 0.6299\n",
            "\n",
            "Epoch 00008: ReduceLROnPlateau reducing learning rate to 2.700000040931627e-05.\n",
            "Epoch 9/10\n",
            "19/19 [==============================] - 92s 5s/step - loss: 0.3206 - accuracy: 0.8440 - val_loss: 0.7234 - val_accuracy: 0.6283\n",
            "Epoch 10/10\n",
            "19/19 [==============================] - 73s 4s/step - loss: 0.2546 - accuracy: 0.8888 - val_loss: 0.7230 - val_accuracy: 0.6234\n",
            "\n",
            "Epoch 00010: ReduceLROnPlateau reducing learning rate to 8.100000013655517e-06.\n",
            "\n",
            "TRAIN METRIC ----------------------\n",
            "Covid19 Train acc: 87.66\n"
          ],
          "name": "stdout"
        },
        {
          "output_type": "display_data",
          "data": {
            "image/png": "[encoded data removed]",
            "text/plain": [
              "<Figure size 720x216 with 2 Axes>"
            ]
          },
          "metadata": {
            "tags": [],
            "needs_background": "light"
          }
        }
      ]
    },
    {
      "cell_type": "code",
      "metadata": {
        "id": "_piH7x0DUfV0"
      },
      "source": [
        "model_covid19PneumoniaDetector.save('model.h5')"
      ],
      "execution_count": null,
      "outputs": []
    }
  ]
}